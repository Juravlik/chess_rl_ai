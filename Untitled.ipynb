{
 "cells": [
  {
   "cell_type": "code",
   "execution_count": 2,
   "metadata": {},
   "outputs": [
    {
     "ename": "ModuleNotFoundError",
     "evalue": "No module named 'python_chess'",
     "output_type": "error",
     "traceback": [
      "\u001b[0;31m---------------------------------------------------------------------------\u001b[0m",
      "\u001b[0;31mModuleNotFoundError\u001b[0m                       Traceback (most recent call last)",
      "\u001b[0;32m<ipython-input-2-d3346cbfe960>\u001b[0m in \u001b[0;36m<module>\u001b[0;34m\u001b[0m\n\u001b[1;32m      5\u001b[0m \u001b[0;34m\u001b[0m\u001b[0m\n\u001b[1;32m      6\u001b[0m \u001b[0;34m\u001b[0m\u001b[0m\n\u001b[0;32m----> 7\u001b[0;31m \u001b[0;32mimport\u001b[0m \u001b[0mpython_chess\u001b[0m\u001b[0;34m\u001b[0m\u001b[0;34m\u001b[0m\u001b[0m\n\u001b[0m",
      "\u001b[0;31mModuleNotFoundError\u001b[0m: No module named 'python_chess'"
     ]
    }
   ],
   "source": [
    "from __future__ import print_function\n",
    "import sys\n",
    "sys.path.append('')\n",
    "from __future__ import annotations\n",
    "\n",
    "\n",
    "import python_chess\n"
   ]
  },
  {
   "cell_type": "code",
   "execution_count": 3,
   "metadata": {},
   "outputs": [
    {
     "name": "stdout",
     "output_type": "stream",
     "text": [
      "Package                Version\r\n",
      "---------------------- -------------------\r\n",
      "absl-py                0.12.0\r\n",
      "aiohttp                3.6.3\r\n",
      "astunparse             1.6.3\r\n",
      "async-timeout          3.0.1\r\n",
      "attrs                  21.2.0\r\n",
      "blinker                1.4\r\n",
      "brotlipy               0.7.0\r\n",
      "cachetools             4.2.2\r\n",
      "certifi                2020.12.5\r\n",
      "cffi                   1.14.5\r\n",
      "chardet                3.0.4\r\n",
      "chess                  1.5.0\r\n",
      "click                  8.0.1\r\n",
      "coloredlogs            15.0\r\n",
      "coverage               5.5\r\n",
      "cryptography           3.4.7\r\n",
      "cycler                 0.10.0\r\n",
      "Cython                 0.29.23\r\n",
      "flatbuffers            20210226132247\r\n",
      "gast                   0.4.0\r\n",
      "google-auth            1.30.1\r\n",
      "google-auth-oauthlib   0.4.4\r\n",
      "google-pasta           0.2.0\r\n",
      "grpcio                 1.36.1\r\n",
      "h5py                   2.10.0\r\n",
      "humanfriendly          9.1\r\n",
      "idna                   2.10\r\n",
      "importlib-metadata     3.10.0\r\n",
      "Keras                  2.4.3\r\n",
      "Keras-Preprocessing    1.1.2\r\n",
      "kiwisolver             1.3.1\r\n",
      "Markdown               3.3.4\r\n",
      "matplotlib             3.3.4\r\n",
      "mkl-fft                1.3.0\r\n",
      "mkl-random             1.2.1\r\n",
      "mkl-service            2.3.0\r\n",
      "multidict              4.7.6\r\n",
      "numpy                  1.20.2\r\n",
      "oauthlib               3.1.0\r\n",
      "olefile                0.46\r\n",
      "opt-einsum             3.3.0\r\n",
      "Pillow                 8.2.0\r\n",
      "pip                    21.1.1\r\n",
      "protobuf               3.14.0\r\n",
      "pyasn1                 0.4.8\r\n",
      "pyasn1-modules         0.2.8\r\n",
      "pycparser              2.20\r\n",
      "PyJWT                  1.7.1\r\n",
      "pyOpenSSL              20.0.1\r\n",
      "pyparsing              2.4.7\r\n",
      "PyQt5                  5.15.4\r\n",
      "PyQt5-Qt5              5.15.2\r\n",
      "PyQt5-sip              12.9.0\r\n",
      "PySocks                1.7.1\r\n",
      "python-chess           1.999\r\n",
      "python-dateutil        2.8.1\r\n",
      "PyYAML                 5.4.1\r\n",
      "requests               2.25.1\r\n",
      "requests-oauthlib      1.3.0\r\n",
      "rsa                    4.7.2\r\n",
      "scipy                  1.6.2\r\n",
      "setuptools             52.0.0.post20210125\r\n",
      "six                    1.15.0\r\n",
      "stockfish              3.14.0\r\n",
      "tensorboard            2.4.0\r\n",
      "tensorboard-plugin-wit 1.6.0\r\n",
      "tensorflow             2.4.1\r\n",
      "tensorflow-estimator   2.4.0\r\n",
      "termcolor              1.1.0\r\n",
      "torch                  1.8.1\r\n",
      "torchaudio             0.8.0a0+e4e171a\r\n",
      "torchvision            0.9.1\r\n",
      "tornado                6.1\r\n",
      "tqdm                   4.59.0\r\n",
      "typing-extensions      3.7.4.3\r\n",
      "urllib3                1.26.4\r\n",
      "Werkzeug               1.0.1\r\n",
      "wheel                  0.36.2\r\n",
      "wrapt                  1.12.1\r\n",
      "yarl                   1.6.3\r\n",
      "zipp                   3.4.1\r\n"
     ]
    }
   ],
   "source": [
    "!pip list"
   ]
  }
 ],
 "metadata": {
  "kernelspec": {
   "display_name": "chess_rl_ai",
   "language": "python",
   "name": "chess_rl_ai"
  },
  "language_info": {
   "codemirror_mode": {
    "name": "ipython",
    "version": 3
   },
   "file_extension": ".py",
   "mimetype": "text/x-python",
   "name": "python",
   "nbconvert_exporter": "python",
   "pygments_lexer": "ipython3",
   "version": "3.8.3"
  }
 },
 "nbformat": 4,
 "nbformat_minor": 2
}
